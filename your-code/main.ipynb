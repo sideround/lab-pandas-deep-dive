{
 "cells": [
  {
   "cell_type": "markdown",
   "metadata": {
    "toc": true
   },
   "source": [
    "<h1>Table of Contents<span class=\"tocSkip\"></span></h1>\n",
    "<div class=\"toc\"><ul class=\"toc-item\"><li><span><a href=\"#Lab-|-Pandas-Deep-Dive\" data-toc-modified-id=\"Lab-|-Pandas-Deep-Dive-1\"><span class=\"toc-item-num\">1&nbsp;&nbsp;</span>Lab | Pandas Deep-Dive</a></span><ul class=\"toc-item\"><li><ul class=\"toc-item\"><li><span><a href=\"#1.-Import-Pandas-package-under-the-alias-pd-and-Numpy-under-the-alias-np\" data-toc-modified-id=\"1.-Import-Pandas-package-under-the-alias-pd-and-Numpy-under-the-alias-np-1.0.1\"><span class=\"toc-item-num\">1.0.1&nbsp;&nbsp;</span>1. Import Pandas package under the alias pd and Numpy under the alias np</a></span></li><li><span><a href=\"#2.-Define-a-variable-called-path-that-contains-the-path-to-the-csv-file-you-downloaded.\" data-toc-modified-id=\"2.-Define-a-variable-called-path-that-contains-the-path-to-the-csv-file-you-downloaded.-1.0.2\"><span class=\"toc-item-num\">1.0.2&nbsp;&nbsp;</span>2. Define a variable called <code>path</code> that contains the path to the csv file you downloaded.</a></span></li><li><span><a href=\"#3.-Using-the-Pandas-read_csv()-method,-import-the-csv-file-at-the-path-above.\" data-toc-modified-id=\"3.-Using-the-Pandas-read_csv()-method,-import-the-csv-file-at-the-path-above.-1.0.3\"><span class=\"toc-item-num\">1.0.3&nbsp;&nbsp;</span>3. Using the Pandas <code>read_csv()</code> method, import the csv file at the path above.</a></span></li><li><span><a href=\"#4.-Print-the-first-5-rows-of-data-to-see-what-the-data-look-like.\" data-toc-modified-id=\"4.-Print-the-first-5-rows-of-data-to-see-what-the-data-look-like.-1.0.4\"><span class=\"toc-item-num\">1.0.4&nbsp;&nbsp;</span>4. Print the first 5 rows of <code>data</code> to see what the data look like.</a></span></li><li><span><a href=\"#5.-Print-the-summary-(info)-of-the-data.\" data-toc-modified-id=\"5.-Print-the-summary-(info)-of-the-data.-1.0.5\"><span class=\"toc-item-num\">1.0.5&nbsp;&nbsp;</span>5. Print the summary (info) of the data.</a></span></li><li><span><a href=\"#6.-Print-the-number-of-columns-in-the-data.\" data-toc-modified-id=\"6.-Print-the-number-of-columns-in-the-data.-1.0.6\"><span class=\"toc-item-num\">1.0.6&nbsp;&nbsp;</span>6. Print the number of columns in the data.</a></span></li><li><span><a href=\"#7.-Print-all-column-names.\" data-toc-modified-id=\"7.-Print-all-column-names.-1.0.7\"><span class=\"toc-item-num\">1.0.7&nbsp;&nbsp;</span>7. Print all column names.</a></span></li></ul></li><li><span><a href=\"#Now-that-we-have-a-general-understanding-of-the-data,-we'll-start-working-on-the-challenge-questions.\" data-toc-modified-id=\"Now-that-we-have-a-general-understanding-of-the-data,-we'll-start-working-on-the-challenge-questions.-1.1\"><span class=\"toc-item-num\">1.1&nbsp;&nbsp;</span>Now that we have a general understanding of the data, we'll start working on the challenge questions.</a></span><ul class=\"toc-item\"><li><span><a href=\"#8.-How-many-apps-are-there-in-the-data-source?\" data-toc-modified-id=\"8.-How-many-apps-are-there-in-the-data-source?-1.1.1\"><span class=\"toc-item-num\">1.1.1&nbsp;&nbsp;</span>8. How many apps are there in the data source?</a></span></li><li><span><a href=\"#9.-What-is-the-average-rating-of-all-apps?\" data-toc-modified-id=\"9.-What-is-the-average-rating-of-all-apps?-1.1.2\"><span class=\"toc-item-num\">1.1.2&nbsp;&nbsp;</span>9. What is the average rating of all apps?</a></span></li><li><span><a href=\"#10.-How-many-apps-have-an-average-rating-no-less-than-4?\" data-toc-modified-id=\"10.-How-many-apps-have-an-average-rating-no-less-than-4?-1.1.3\"><span class=\"toc-item-num\">1.1.3&nbsp;&nbsp;</span>10. How many apps have an average rating no less than 4?</a></span></li><li><span><a href=\"#11.-How-many-genres-are-there-in-total-for-all-the-apps?\" data-toc-modified-id=\"11.-How-many-genres-are-there-in-total-for-all-the-apps?-1.1.4\"><span class=\"toc-item-num\">1.1.4&nbsp;&nbsp;</span>11. How many genres are there in total for all the apps?</a></span></li><li><span><a href=\"#12.-What-are-the-top-3-genres-that-have-the-most-number-of-apps?\" data-toc-modified-id=\"12.-What-are-the-top-3-genres-that-have-the-most-number-of-apps?-1.1.5\"><span class=\"toc-item-num\">1.1.5&nbsp;&nbsp;</span>12. What are the top 3 genres that have the most number of apps?</a></span></li><li><span><a href=\"#13.-Which-genre-is-most-likely-to-contain-free-apps?\" data-toc-modified-id=\"13.-Which-genre-is-most-likely-to-contain-free-apps?-1.1.6\"><span class=\"toc-item-num\">1.1.6&nbsp;&nbsp;</span>13. Which genre is most likely to contain free apps?</a></span></li><li><span><a href=\"#14.-Now-you-can-calculate-the-proportion-of-the-free-apps-in-each-genre-based-on-the-value-counts-you-obtained-in-the-previous-two-steps.\" data-toc-modified-id=\"14.-Now-you-can-calculate-the-proportion-of-the-free-apps-in-each-genre-based-on-the-value-counts-you-obtained-in-the-previous-two-steps.-1.1.7\"><span class=\"toc-item-num\">1.1.7&nbsp;&nbsp;</span>14. Now you can calculate the proportion of the free apps in each genre based on the value counts you obtained in the previous two steps.</a></span></li><li><span><a href=\"#15.-If-a-developer-tries-to-make-money-by-developing-and-selling-Apple-Store-apps,-in-which-genre-should-s/he-develop-the-apps?-Please-assume-all-apps-cost-the-same-amount-of-time-and-expense-to-develop.\" data-toc-modified-id=\"15.-If-a-developer-tries-to-make-money-by-developing-and-selling-Apple-Store-apps,-in-which-genre-should-s/he-develop-the-apps?-Please-assume-all-apps-cost-the-same-amount-of-time-and-expense-to-develop.-1.1.8\"><span class=\"toc-item-num\">1.1.8&nbsp;&nbsp;</span>15. If a developer tries to make money by developing and selling Apple Store apps, in which genre should s/he develop the apps? Please assume all apps cost the same amount of time and expense to develop.</a></span></li></ul></li></ul></li></ul></div>"
   ]
  },
  {
   "cell_type": "markdown",
   "metadata": {},
   "source": [
    "# Lab | Pandas Deep-Dive"
   ]
  },
  {
   "cell_type": "markdown",
   "metadata": {},
   "source": [
    "### 1. Import Pandas package under the alias pd and Numpy under the alias np"
   ]
  },
  {
   "cell_type": "code",
   "execution_count": 2,
   "metadata": {},
   "outputs": [],
   "source": [
    "import pandas as pd\n",
    "import numpy as np"
   ]
  },
  {
   "cell_type": "markdown",
   "metadata": {},
   "source": [
    "### 2. Define a variable called `path` that contains the path to the csv file you downloaded. "
   ]
  },
  {
   "cell_type": "code",
   "execution_count": 5,
   "metadata": {},
   "outputs": [],
   "source": [
    "path = \"./data/apple_store.csv\""
   ]
  },
  {
   "cell_type": "markdown",
   "metadata": {},
   "source": [
    "### 3. Using the Pandas `read_csv()` method, import the csv file at the path above. \n",
    "\n",
    "Assign the returned value to a variable called `data`.\n",
    "\n",
    "Note: you can omit the `sep` parameter for `read_csv()` because the csv file uses the default separator of \",\"."
   ]
  },
  {
   "cell_type": "code",
   "execution_count": 6,
   "metadata": {},
   "outputs": [],
   "source": [
    "data = pd.read_csv(path)"
   ]
  },
  {
   "cell_type": "markdown",
   "metadata": {},
   "source": [
    "### 4. Print the first 5 rows of `data` to see what the data look like.\n",
    "\n",
    "A data analyst usually does this to have a general understanding about what the data look like before digging deep."
   ]
  },
  {
   "cell_type": "code",
   "execution_count": 7,
   "metadata": {},
   "outputs": [
    {
     "data": {
      "text/html": [
       "<div>\n",
       "<style scoped>\n",
       "    .dataframe tbody tr th:only-of-type {\n",
       "        vertical-align: middle;\n",
       "    }\n",
       "\n",
       "    .dataframe tbody tr th {\n",
       "        vertical-align: top;\n",
       "    }\n",
       "\n",
       "    .dataframe thead th {\n",
       "        text-align: right;\n",
       "    }\n",
       "</style>\n",
       "<table border=\"1\" class=\"dataframe\">\n",
       "  <thead>\n",
       "    <tr style=\"text-align: right;\">\n",
       "      <th></th>\n",
       "      <th>id</th>\n",
       "      <th>track_name</th>\n",
       "      <th>size_bytes</th>\n",
       "      <th>price</th>\n",
       "      <th>rating_count_tot</th>\n",
       "      <th>rating_count_ver</th>\n",
       "      <th>user_rating</th>\n",
       "      <th>user_rating_ver</th>\n",
       "      <th>prime_genre</th>\n",
       "    </tr>\n",
       "  </thead>\n",
       "  <tbody>\n",
       "    <tr>\n",
       "      <td>0</td>\n",
       "      <td>281656475</td>\n",
       "      <td>PAC-MAN Premium</td>\n",
       "      <td>100788224</td>\n",
       "      <td>3.99</td>\n",
       "      <td>21292</td>\n",
       "      <td>26</td>\n",
       "      <td>4.0</td>\n",
       "      <td>4.5</td>\n",
       "      <td>Games</td>\n",
       "    </tr>\n",
       "    <tr>\n",
       "      <td>1</td>\n",
       "      <td>281796108</td>\n",
       "      <td>Evernote - stay organized</td>\n",
       "      <td>158578688</td>\n",
       "      <td>0.00</td>\n",
       "      <td>161065</td>\n",
       "      <td>26</td>\n",
       "      <td>4.0</td>\n",
       "      <td>3.5</td>\n",
       "      <td>Productivity</td>\n",
       "    </tr>\n",
       "    <tr>\n",
       "      <td>2</td>\n",
       "      <td>281940292</td>\n",
       "      <td>WeatherBug - Local Weather, Radar, Maps, Alerts</td>\n",
       "      <td>100524032</td>\n",
       "      <td>0.00</td>\n",
       "      <td>188583</td>\n",
       "      <td>2822</td>\n",
       "      <td>3.5</td>\n",
       "      <td>4.5</td>\n",
       "      <td>Weather</td>\n",
       "    </tr>\n",
       "    <tr>\n",
       "      <td>3</td>\n",
       "      <td>282614216</td>\n",
       "      <td>eBay: Best App to Buy, Sell, Save! Online Shop...</td>\n",
       "      <td>128512000</td>\n",
       "      <td>0.00</td>\n",
       "      <td>262241</td>\n",
       "      <td>649</td>\n",
       "      <td>4.0</td>\n",
       "      <td>4.5</td>\n",
       "      <td>Shopping</td>\n",
       "    </tr>\n",
       "    <tr>\n",
       "      <td>4</td>\n",
       "      <td>282935706</td>\n",
       "      <td>Bible</td>\n",
       "      <td>92774400</td>\n",
       "      <td>0.00</td>\n",
       "      <td>985920</td>\n",
       "      <td>5320</td>\n",
       "      <td>4.5</td>\n",
       "      <td>5.0</td>\n",
       "      <td>Reference</td>\n",
       "    </tr>\n",
       "  </tbody>\n",
       "</table>\n",
       "</div>"
      ],
      "text/plain": [
       "          id                                         track_name  size_bytes  \\\n",
       "0  281656475                                    PAC-MAN Premium   100788224   \n",
       "1  281796108                          Evernote - stay organized   158578688   \n",
       "2  281940292    WeatherBug - Local Weather, Radar, Maps, Alerts   100524032   \n",
       "3  282614216  eBay: Best App to Buy, Sell, Save! Online Shop...   128512000   \n",
       "4  282935706                                              Bible    92774400   \n",
       "\n",
       "   price  rating_count_tot  rating_count_ver  user_rating  user_rating_ver  \\\n",
       "0   3.99             21292                26          4.0              4.5   \n",
       "1   0.00            161065                26          4.0              3.5   \n",
       "2   0.00            188583              2822          3.5              4.5   \n",
       "3   0.00            262241               649          4.0              4.5   \n",
       "4   0.00            985920              5320          4.5              5.0   \n",
       "\n",
       "    prime_genre  \n",
       "0         Games  \n",
       "1  Productivity  \n",
       "2       Weather  \n",
       "3      Shopping  \n",
       "4     Reference  "
      ]
     },
     "execution_count": 7,
     "metadata": {},
     "output_type": "execute_result"
    }
   ],
   "source": [
    "data.head()"
   ]
  },
  {
   "cell_type": "markdown",
   "metadata": {},
   "source": [
    "### 5. Print the summary (info) of the data."
   ]
  },
  {
   "cell_type": "code",
   "execution_count": 8,
   "metadata": {},
   "outputs": [
    {
     "name": "stdout",
     "output_type": "stream",
     "text": [
      "<class 'pandas.core.frame.DataFrame'>\n",
      "RangeIndex: 7197 entries, 0 to 7196\n",
      "Data columns (total 9 columns):\n",
      "id                  7197 non-null int64\n",
      "track_name          7197 non-null object\n",
      "size_bytes          7197 non-null int64\n",
      "price               7197 non-null float64\n",
      "rating_count_tot    7197 non-null int64\n",
      "rating_count_ver    7197 non-null int64\n",
      "user_rating         7197 non-null float64\n",
      "user_rating_ver     7197 non-null float64\n",
      "prime_genre         7197 non-null object\n",
      "dtypes: float64(3), int64(4), object(2)\n",
      "memory usage: 506.2+ KB\n"
     ]
    }
   ],
   "source": [
    "data.info()"
   ]
  },
  {
   "cell_type": "markdown",
   "metadata": {},
   "source": [
    "### 6. Print the number of columns in the data."
   ]
  },
  {
   "cell_type": "code",
   "execution_count": 10,
   "metadata": {},
   "outputs": [
    {
     "data": {
      "text/plain": [
       "9"
      ]
     },
     "execution_count": 10,
     "metadata": {},
     "output_type": "execute_result"
    }
   ],
   "source": [
    "len(data.columns)"
   ]
  },
  {
   "cell_type": "markdown",
   "metadata": {},
   "source": [
    "### 7. Print all column names."
   ]
  },
  {
   "cell_type": "code",
   "execution_count": 11,
   "metadata": {},
   "outputs": [
    {
     "data": {
      "text/plain": [
       "Index(['id', 'track_name', 'size_bytes', 'price', 'rating_count_tot',\n",
       "       'rating_count_ver', 'user_rating', 'user_rating_ver', 'prime_genre'],\n",
       "      dtype='object')"
      ]
     },
     "execution_count": 11,
     "metadata": {},
     "output_type": "execute_result"
    }
   ],
   "source": [
    "data.columns"
   ]
  },
  {
   "cell_type": "markdown",
   "metadata": {},
   "source": [
    "## Now that we have a general understanding of the data, we'll start working on the challenge questions.\n",
    "\n",
    "### 8. How many apps are there in the data source? \n",
    "\n",
    "Print the # of observations of the data.\n",
    "\n",
    "*Hint: Your code should return the number 7197.*"
   ]
  },
  {
   "cell_type": "code",
   "execution_count": 15,
   "metadata": {},
   "outputs": [
    {
     "data": {
      "text/plain": [
       "7197"
      ]
     },
     "execution_count": 15,
     "metadata": {},
     "output_type": "execute_result"
    }
   ],
   "source": [
    "data[\"id\"].nunique()"
   ]
  },
  {
   "cell_type": "markdown",
   "metadata": {},
   "source": [
    "### 9. What is the average rating of all apps? \n",
    "\n",
    "First, read the `user_rating` column into a varialbe named `user_rating`."
   ]
  },
  {
   "cell_type": "code",
   "execution_count": 17,
   "metadata": {},
   "outputs": [],
   "source": [
    "user_rating = data[\"user_rating\"]"
   ]
  },
  {
   "cell_type": "markdown",
   "metadata": {},
   "source": [
    "Now you can calculate the average of the `user_rating` data.\n",
    "\n",
    "Your code should return 3.526955675976101"
   ]
  },
  {
   "cell_type": "code",
   "execution_count": 18,
   "metadata": {},
   "outputs": [
    {
     "data": {
      "text/plain": [
       "3.526955675976101"
      ]
     },
     "execution_count": 18,
     "metadata": {},
     "output_type": "execute_result"
    }
   ],
   "source": [
    "user_rating.mean()"
   ]
  },
  {
   "cell_type": "markdown",
   "metadata": {},
   "source": [
    "### 10. How many apps have an average rating no less than 4?\n",
    "\n",
    "First, filter `user_rating` where its value >= 4. \n",
    "\n",
    "Assign the filtered dataframe to a new variable called `user_rating_high`."
   ]
  },
  {
   "cell_type": "code",
   "execution_count": 19,
   "metadata": {},
   "outputs": [],
   "source": [
    "user_rating_high = user_rating[user_rating >= 4]"
   ]
  },
  {
   "cell_type": "markdown",
   "metadata": {},
   "source": [
    "Now obtain the length of `user_rating_high` which should return 4781."
   ]
  },
  {
   "cell_type": "code",
   "execution_count": 20,
   "metadata": {},
   "outputs": [
    {
     "data": {
      "text/plain": [
       "4781"
      ]
     },
     "execution_count": 20,
     "metadata": {},
     "output_type": "execute_result"
    }
   ],
   "source": [
    "len(user_rating_high)"
   ]
  },
  {
   "cell_type": "markdown",
   "metadata": {},
   "source": [
    "### 11. How many genres are there in total for all the apps?\n",
    "\n",
    "Define a new variable named `genres` that contains the `prime_genre` column of `data`. Google for how to obtain unique values of a dataframe column. "
   ]
  },
  {
   "cell_type": "code",
   "execution_count": 21,
   "metadata": {},
   "outputs": [],
   "source": [
    "genres = data[\"prime_genre\"]"
   ]
  },
  {
   "cell_type": "markdown",
   "metadata": {},
   "source": [
    "Print the length of the unique values of `genres`. Your code should return 23."
   ]
  },
  {
   "cell_type": "code",
   "execution_count": 22,
   "metadata": {},
   "outputs": [
    {
     "data": {
      "text/plain": [
       "23"
      ]
     },
     "execution_count": 22,
     "metadata": {},
     "output_type": "execute_result"
    }
   ],
   "source": [
    "genres.nunique()"
   ]
  },
  {
   "cell_type": "markdown",
   "metadata": {},
   "source": [
    "### 12. What are the top 3 genres that have the most number of apps?\n",
    "\n",
    "What you want to do is to count the number of occurrences of each unique genre values. Because you already know how to obtain the unique genre values, you can of course count the # of apps of each genre one by one. However, Pandas has a convient function to let you count all values of a dataframe column with a single command. Google for \"pandas count values\" to find the solution. Your code should return the following:\n",
    "\n",
    "```\n",
    "Games            3862\n",
    "Entertainment     535\n",
    "Education         453\n",
    "Name: prime_genre, dtype: int64\n",
    "```"
   ]
  },
  {
   "cell_type": "code",
   "execution_count": 46,
   "metadata": {},
   "outputs": [
    {
     "data": {
      "text/plain": [
       "Games                3862\n",
       "Entertainment         535\n",
       "Education             453\n",
       "Photo & Video         349\n",
       "Utilities             248\n",
       "Health & Fitness      180\n",
       "Productivity          178\n",
       "Social Networking     167\n",
       "Lifestyle             144\n",
       "Music                 138\n",
       "Shopping              122\n",
       "Sports                114\n",
       "Book                  112\n",
       "Finance               104\n",
       "Travel                 81\n",
       "News                   75\n",
       "Weather                72\n",
       "Reference              64\n",
       "Food & Drink           63\n",
       "Business               57\n",
       "Navigation             46\n",
       "Medical                23\n",
       "Catalogs               10\n",
       "Name: prime_genre, dtype: int64"
      ]
     },
     "execution_count": 46,
     "metadata": {},
     "output_type": "execute_result"
    }
   ],
   "source": [
    "genres_value_count = genres.value_counts()\n",
    "genres_value_count"
   ]
  },
  {
   "cell_type": "markdown",
   "metadata": {},
   "source": [
    "### 13. Which genre is most likely to contain free apps?\n",
    "\n",
    "First, filter `data` where the price is 0.00. Assign the filtered data to a new variable called `free_apps`. Then count the values in `free_apps`. Your code should return:\n",
    "\n",
    "```\n",
    "Games                2257\n",
    "Entertainment         334\n",
    "Photo & Video         167\n",
    "Social Networking     143\n",
    "Education             132\n",
    "Shopping              121\n",
    "Utilities             109\n",
    "Lifestyle              94\n",
    "Finance                84\n",
    "Sports                 79\n",
    "Health & Fitness       76\n",
    "Music                  67\n",
    "Book                   66\n",
    "Productivity           62\n",
    "News                   58\n",
    "Travel                 56\n",
    "Food & Drink           43\n",
    "Weather                31\n",
    "Navigation             20\n",
    "Reference              20\n",
    "Business               20\n",
    "Catalogs                9\n",
    "Medical                 8\n",
    "Name: prime_genre, dtype: int64\n",
    "```"
   ]
  },
  {
   "cell_type": "code",
   "execution_count": 41,
   "metadata": {},
   "outputs": [],
   "source": [
    "free_apps = data[data[\"price\"] == 0.00]\n",
    "free_apps_value_counts = free_apps[\"prime_genre\"].value_counts()"
   ]
  },
  {
   "cell_type": "markdown",
   "metadata": {},
   "source": [
    "### 14. Now you can calculate the proportion of the free apps in each genre based on the value counts you obtained in the previous two steps. \n",
    "\n",
    "Challenge yourself by achieving that with one line of code. The output should look like:\n",
    "\n",
    "```\n",
    "Shopping             0.991803\n",
    "Catalogs             0.900000\n",
    "Social Networking    0.856287\n",
    "Finance              0.807692\n",
    "News                 0.773333\n",
    "Sports               0.692982\n",
    "Travel               0.691358\n",
    "Food & Drink         0.682540\n",
    "Lifestyle            0.652778\n",
    "Entertainment        0.624299\n",
    "Book                 0.589286\n",
    "Games                0.584412\n",
    "Music                0.485507\n",
    "Photo & Video        0.478510\n",
    "Utilities            0.439516\n",
    "Navigation           0.434783\n",
    "Weather              0.430556\n",
    "Health & Fitness     0.422222\n",
    "Business             0.350877\n",
    "Productivity         0.348315\n",
    "Medical              0.347826\n",
    "Reference            0.312500\n",
    "Education            0.291391\n",
    "Name: prime_genre, dtype: float64\n",
    "```\n",
    "\n",
    "The numbers are interesting, aren't they?"
   ]
  },
  {
   "cell_type": "code",
   "execution_count": 47,
   "metadata": {},
   "outputs": [
    {
     "data": {
      "text/plain": [
       "Shopping             0.991803\n",
       "Catalogs             0.900000\n",
       "Social Networking    0.856287\n",
       "Finance              0.807692\n",
       "News                 0.773333\n",
       "Sports               0.692982\n",
       "Travel               0.691358\n",
       "Food & Drink         0.682540\n",
       "Lifestyle            0.652778\n",
       "Entertainment        0.624299\n",
       "Book                 0.589286\n",
       "Games                0.584412\n",
       "Music                0.485507\n",
       "Photo & Video        0.478510\n",
       "Utilities            0.439516\n",
       "Navigation           0.434783\n",
       "Weather              0.430556\n",
       "Health & Fitness     0.422222\n",
       "Business             0.350877\n",
       "Productivity         0.348315\n",
       "Medical              0.347826\n",
       "Reference            0.312500\n",
       "Education            0.291391\n",
       "Name: prime_genre, dtype: float64"
      ]
     },
     "execution_count": 47,
     "metadata": {},
     "output_type": "execute_result"
    }
   ],
   "source": [
    "(free_apps_value_counts / genres_value_count).sort_values(ascending=False)"
   ]
  },
  {
   "cell_type": "markdown",
   "metadata": {},
   "source": [
    "### 15. If a developer tries to make money by developing and selling Apple Store apps, in which genre should s/he develop the apps? Please assume all apps cost the same amount of time and expense to develop.\n",
    "\n",
    "We will leave this question to you. There are several way to solve it. Ideally your output should look like below:\n",
    "\n",
    "```\n",
    "    average_price              genre\n",
    "21       8.776087            Medical\n",
    "11       5.116316           Business\n",
    "4        4.836875          Reference\n",
    "6        4.835435              Music\n",
    "1        4.330562       Productivity\n",
    "15       4.124783         Navigation\n",
    "16       4.028234          Education\n",
    "12       1.916444   Health & Fitness\n",
    "20       1.790536               Book\n",
    "7        1.647621          Utilities\n",
    "2        1.605417            Weather\n",
    "18       1.552381       Food & Drink\n",
    "14       1.473295      Photo & Video\n",
    "0        1.432923              Games\n",
    "8        1.120370             Travel\n",
    "10       0.953070             Sports\n",
    "13       0.889701      Entertainment\n",
    "17       0.885417          Lifestyle\n",
    "22       0.799000           Catalogs\n",
    "19       0.517733               News\n",
    "5        0.421154            Finance\n",
    "9        0.339880  Social Networking\n",
    "3        0.016311           Shopping\n",
    "```"
   ]
  },
  {
   "cell_type": "code",
   "execution_count": 50,
   "metadata": {},
   "outputs": [
    {
     "data": {
      "text/html": [
       "<div>\n",
       "<style scoped>\n",
       "    .dataframe tbody tr th:only-of-type {\n",
       "        vertical-align: middle;\n",
       "    }\n",
       "\n",
       "    .dataframe tbody tr th {\n",
       "        vertical-align: top;\n",
       "    }\n",
       "\n",
       "    .dataframe thead th {\n",
       "        text-align: right;\n",
       "    }\n",
       "</style>\n",
       "<table border=\"1\" class=\"dataframe\">\n",
       "  <thead>\n",
       "    <tr style=\"text-align: right;\">\n",
       "      <th></th>\n",
       "      <th>price</th>\n",
       "    </tr>\n",
       "    <tr>\n",
       "      <th>prime_genre</th>\n",
       "      <th></th>\n",
       "    </tr>\n",
       "  </thead>\n",
       "  <tbody>\n",
       "    <tr>\n",
       "      <td>Book</td>\n",
       "      <td>1.790536</td>\n",
       "    </tr>\n",
       "    <tr>\n",
       "      <td>Business</td>\n",
       "      <td>5.116316</td>\n",
       "    </tr>\n",
       "    <tr>\n",
       "      <td>Catalogs</td>\n",
       "      <td>0.799000</td>\n",
       "    </tr>\n",
       "    <tr>\n",
       "      <td>Education</td>\n",
       "      <td>4.028234</td>\n",
       "    </tr>\n",
       "    <tr>\n",
       "      <td>Entertainment</td>\n",
       "      <td>0.889701</td>\n",
       "    </tr>\n",
       "    <tr>\n",
       "      <td>Finance</td>\n",
       "      <td>0.421154</td>\n",
       "    </tr>\n",
       "    <tr>\n",
       "      <td>Food &amp; Drink</td>\n",
       "      <td>1.552381</td>\n",
       "    </tr>\n",
       "    <tr>\n",
       "      <td>Games</td>\n",
       "      <td>1.432923</td>\n",
       "    </tr>\n",
       "    <tr>\n",
       "      <td>Health &amp; Fitness</td>\n",
       "      <td>1.916444</td>\n",
       "    </tr>\n",
       "    <tr>\n",
       "      <td>Lifestyle</td>\n",
       "      <td>0.885417</td>\n",
       "    </tr>\n",
       "    <tr>\n",
       "      <td>Medical</td>\n",
       "      <td>8.776087</td>\n",
       "    </tr>\n",
       "    <tr>\n",
       "      <td>Music</td>\n",
       "      <td>4.835435</td>\n",
       "    </tr>\n",
       "    <tr>\n",
       "      <td>Navigation</td>\n",
       "      <td>4.124783</td>\n",
       "    </tr>\n",
       "    <tr>\n",
       "      <td>News</td>\n",
       "      <td>0.517733</td>\n",
       "    </tr>\n",
       "    <tr>\n",
       "      <td>Photo &amp; Video</td>\n",
       "      <td>1.473295</td>\n",
       "    </tr>\n",
       "    <tr>\n",
       "      <td>Productivity</td>\n",
       "      <td>4.330562</td>\n",
       "    </tr>\n",
       "    <tr>\n",
       "      <td>Reference</td>\n",
       "      <td>4.836875</td>\n",
       "    </tr>\n",
       "    <tr>\n",
       "      <td>Shopping</td>\n",
       "      <td>0.016311</td>\n",
       "    </tr>\n",
       "    <tr>\n",
       "      <td>Social Networking</td>\n",
       "      <td>0.339880</td>\n",
       "    </tr>\n",
       "    <tr>\n",
       "      <td>Sports</td>\n",
       "      <td>0.953070</td>\n",
       "    </tr>\n",
       "    <tr>\n",
       "      <td>Travel</td>\n",
       "      <td>1.120370</td>\n",
       "    </tr>\n",
       "    <tr>\n",
       "      <td>Utilities</td>\n",
       "      <td>1.647621</td>\n",
       "    </tr>\n",
       "    <tr>\n",
       "      <td>Weather</td>\n",
       "      <td>1.605417</td>\n",
       "    </tr>\n",
       "  </tbody>\n",
       "</table>\n",
       "</div>"
      ],
      "text/plain": [
       "                      price\n",
       "prime_genre                \n",
       "Book               1.790536\n",
       "Business           5.116316\n",
       "Catalogs           0.799000\n",
       "Education          4.028234\n",
       "Entertainment      0.889701\n",
       "Finance            0.421154\n",
       "Food & Drink       1.552381\n",
       "Games              1.432923\n",
       "Health & Fitness   1.916444\n",
       "Lifestyle          0.885417\n",
       "Medical            8.776087\n",
       "Music              4.835435\n",
       "Navigation         4.124783\n",
       "News               0.517733\n",
       "Photo & Video      1.473295\n",
       "Productivity       4.330562\n",
       "Reference          4.836875\n",
       "Shopping           0.016311\n",
       "Social Networking  0.339880\n",
       "Sports             0.953070\n",
       "Travel             1.120370\n",
       "Utilities          1.647621\n",
       "Weather            1.605417"
      ]
     },
     "execution_count": 50,
     "metadata": {},
     "output_type": "execute_result"
    }
   ],
   "source": [
    "data[[\"price\", \"prime_genre\"]].groupby(\"prime_genre\").mean().sort_val"
   ]
  },
  {
   "cell_type": "code",
   "execution_count": null,
   "metadata": {},
   "outputs": [],
   "source": []
  }
 ],
 "metadata": {
  "kernelspec": {
   "display_name": "Python 3",
   "language": "python",
   "name": "python3"
  },
  "language_info": {
   "codemirror_mode": {
    "name": "ipython",
    "version": 3
   },
   "file_extension": ".py",
   "mimetype": "text/x-python",
   "name": "python",
   "nbconvert_exporter": "python",
   "pygments_lexer": "ipython3",
   "version": "3.7.4"
  },
  "latex_envs": {
   "LaTeX_envs_menu_present": true,
   "autoclose": false,
   "autocomplete": true,
   "bibliofile": "biblio.bib",
   "cite_by": "apalike",
   "current_citInitial": 1,
   "eqLabelWithNumbers": true,
   "eqNumInitial": 1,
   "hotkeys": {
    "equation": "Ctrl-E",
    "itemize": "Ctrl-I"
   },
   "labels_anchors": false,
   "latex_user_defs": false,
   "report_style_numbering": false,
   "user_envs_cfg": false
  },
  "toc": {
   "base_numbering": 1,
   "nav_menu": {},
   "number_sections": true,
   "sideBar": true,
   "skip_h1_title": false,
   "title_cell": "Table of Contents",
   "title_sidebar": "Contents",
   "toc_cell": true,
   "toc_position": {},
   "toc_section_display": true,
   "toc_window_display": false
  },
  "varInspector": {
   "cols": {
    "lenName": 16,
    "lenType": 16,
    "lenVar": 40
   },
   "kernels_config": {
    "python": {
     "delete_cmd_postfix": "",
     "delete_cmd_prefix": "del ",
     "library": "var_list.py",
     "varRefreshCmd": "print(var_dic_list())"
    },
    "r": {
     "delete_cmd_postfix": ") ",
     "delete_cmd_prefix": "rm(",
     "library": "var_list.r",
     "varRefreshCmd": "cat(var_dic_list()) "
    }
   },
   "types_to_exclude": [
    "module",
    "function",
    "builtin_function_or_method",
    "instance",
    "_Feature"
   ],
   "window_display": false
  }
 },
 "nbformat": 4,
 "nbformat_minor": 2
}
